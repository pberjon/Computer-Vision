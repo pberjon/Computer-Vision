{
 "cells": [
  {
   "cell_type": "markdown",
   "id": "38bc0f81",
   "metadata": {},
   "source": [
    "# Optimisation - Remise à niveau - Précision de Calcul et Décomposition LU"
   ]
  },
  {
   "cell_type": "markdown",
   "id": "d7efeed1",
   "metadata": {},
   "source": [
    "## Exercice 1"
   ]
  },
  {
   "cell_type": "code",
   "execution_count": 1,
   "id": "a13e23c3",
   "metadata": {},
   "outputs": [],
   "source": [
    "from math import sqrt\n",
    "\n",
    "def racine(a,c,algo):\n",
    "    d = 1**2 - 4*a*c\n",
    "    x2 = (-1 - sqrt(d))/(2*a)\n",
    "    if algo:\n",
    "        x1 = (-1 + sqrt(d))/(2*a)\n",
    "    else:\n",
    "        p = c/a\n",
    "        x1 = p/x2\n",
    "        \n",
    "    y1 = a*x1**2 + x1 + c\n",
    "    y2 = a*x2**2 + x2 + c\n",
    "    pnorm = sqrt(a**2 + 1**2 + c**2)\n",
    "    qual = max(abs(y1),abs(y2))/pnorm\n",
    "    return x1, x2, qual"
   ]
  },
  {
   "cell_type": "code",
   "execution_count": 2,
   "id": "5e7ddc28",
   "metadata": {},
   "outputs": [],
   "source": [
    "a = 1e-6\n",
    "c = 2e-8"
   ]
  },
  {
   "cell_type": "code",
   "execution_count": 3,
   "id": "0a866705",
   "metadata": {},
   "outputs": [
    {
     "data": {
      "text/plain": [
       "(9.297996759410063e-11, 9.297996759410063e-11)"
      ]
     },
     "execution_count": 3,
     "metadata": {},
     "output_type": "execute_result"
    }
   ],
   "source": [
    "x11, x12, qual1 = racine(a, c, True)\n",
    "x21, x22, qual2 = racine(a, c, False)\n",
    "\n",
    "qual1, qual2"
   ]
  },
  {
   "cell_type": "code",
   "execution_count": 4,
   "id": "e61c91be",
   "metadata": {},
   "outputs": [
    {
     "data": {
      "text/plain": [
       "0.001972381746130637"
      ]
     },
     "execution_count": 4,
     "metadata": {},
     "output_type": "execute_result"
    }
   ],
   "source": [
    "abs(x11-x21)/abs(x11)"
   ]
  },
  {
   "cell_type": "markdown",
   "id": "716be224",
   "metadata": {},
   "source": [
    "On remarque qu'en prenant les valeurs de 'a' et 'c' suffisamment faible ($10^{-6}$ et $10^{-8}$ ici) nous avons un écart relatif entre les solutions d'environ $10^{-3}$ bien que la qualité soit égale. Nous perdons donc en précision."
   ]
  },
  {
   "cell_type": "markdown",
   "id": "f2ea5b0a",
   "metadata": {},
   "source": [
    "## Exercice 2"
   ]
  },
  {
   "cell_type": "code",
   "execution_count": 5,
   "id": "017eed42",
   "metadata": {},
   "outputs": [
    {
     "name": "stdout",
     "output_type": "stream",
     "text": [
      "I100 =  -3.1530126806564304e+141\n"
     ]
    }
   ],
   "source": [
    "from math import exp\n",
    "\n",
    "I0 = 1 - 1/exp(1)\n",
    "\n",
    "for i in range(101):\n",
    "    if i ==0:\n",
    "        In = I0\n",
    "    else:\n",
    "        In = i*In - 1/exp(1)\n",
    "\n",
    "print('I100 = ', In)"
   ]
  },
  {
   "cell_type": "markdown",
   "id": "d695a49a",
   "metadata": {},
   "source": [
    "Nous avons une valeur négative alors que l'intégrale est positive, c'est donc forcément faux."
   ]
  },
  {
   "cell_type": "code",
   "execution_count": 6,
   "id": "627d31c7",
   "metadata": {},
   "outputs": [
    {
     "name": "stdout",
     "output_type": "stream",
     "text": [
      "J100 =  0.0037155787145280983\n"
     ]
    }
   ],
   "source": [
    "J300 = 1\n",
    "\n",
    "for i in range(300,99,-1):\n",
    "    if i ==300:\n",
    "        Jn = J300\n",
    "    else:\n",
    "        Jn = (1/i)*(Jn + 1/exp(1))\n",
    "\n",
    "print('J100 = ', Jn)"
   ]
  },
  {
   "cell_type": "markdown",
   "id": "5efcf4db",
   "metadata": {},
   "source": [
    "Nous avons une valeur positive et inférieur à $1$. Ce résultat est plus cohérent que le précédent.\n",
    "\n",
    "L'erreur du calcul précédent est dû à l'aproximation de $I_0$."
   ]
  },
  {
   "cell_type": "code",
   "execution_count": 109,
   "id": "3b9cd22d",
   "metadata": {},
   "outputs": [],
   "source": [
    "import numpy as np"
   ]
  },
  {
   "cell_type": "markdown",
   "id": "6d652811",
   "metadata": {},
   "source": [
    "### Transformation LU élément par élément"
   ]
  },
  {
   "cell_type": "code",
   "execution_count": 110,
   "id": "6efe5775",
   "metadata": {},
   "outputs": [],
   "source": [
    "def LU_parElements(A):\n",
    "    \n",
    "    \"\"\"Transformation LU d'une matrice A\"\"\"\n",
    "    \n",
    "    n = A.shape[0] # taille de la matrice\n",
    "    U = A\n",
    "    L = np.eye(n)\n",
    "\n",
    "    for k in range(n-1):\n",
    "        for i in range(k+1,n):\n",
    "            mult = U[i,k] / U[k,k]\n",
    "            L[i,k] = mult\n",
    "            U[i,k:n] = U[i,k:n] - mult * U[k,k:n]\n",
    "            \n",
    "    return L,U"
   ]
  },
  {
   "cell_type": "markdown",
   "id": "a6151b5d",
   "metadata": {},
   "source": [
    "### Transformation LU par vecteurs"
   ]
  },
  {
   "cell_type": "code",
   "execution_count": 111,
   "id": "0bf3ee88",
   "metadata": {},
   "outputs": [],
   "source": [
    "def LU_parVecteurs(A):\n",
    "    \n",
    "    \"\"\"Transformation LU d'une matrice A en effectuant des transformations 'par vecteurs'\"\"\"\n",
    "    \n",
    "    n = A.shape[0] # taille de la matrice\n",
    "    U = A\n",
    "    L = np.eye(n)\n",
    "\n",
    "    for k in range(n-1):\n",
    "        L[k+1:n,k:k+1] = U[k+1:n,k:k+1] / U[k:k+1,k:k+1]\n",
    "        U[k+1:n,k+1:n] = U[k+1:n,k+1:n] - np.dot(L[k+1:n,k:k+1], U[k:k+1,k+1:n])\n",
    "        \n",
    "    return L,U"
   ]
  },
  {
   "cell_type": "markdown",
   "id": "5a1c0b45",
   "metadata": {},
   "source": [
    "### Transformation LU par blocs"
   ]
  },
  {
   "cell_type": "code",
   "execution_count": 112,
   "id": "ef46ffed",
   "metadata": {},
   "outputs": [
    {
     "name": "stdout",
     "output_type": "stream",
     "text": [
      "(array([[1., 0., 0.],\n",
      "       [2., 1., 0.],\n",
      "       [3., 2., 1.]]), array([[ 1.,  4.,  7.],\n",
      "       [ 0., -3., -6.],\n",
      "       [ 0.,  0.,  2.]]))\n"
     ]
    }
   ],
   "source": [
    "def LU_Block(A,b):\n",
    "    \n",
    "    \"\"\"Transformation LU par blocs d'une matrice A (pas inPlace)\"\"\"\n",
    "    \n",
    "    if A.shape[0] == 1:\n",
    "        return np.array([[1]]), np.array([[A[0,0]]])\n",
    "\n",
    "    else:\n",
    "        A1 = A[:b,:b]\n",
    "        A2 = A[:b,b:]\n",
    "        A3 = A[b:,:b]\n",
    "        A4 = A[b:,b:]\n",
    "        \n",
    "        L1, U1 = LU_Block(A1,1)\n",
    "        L2 = np.dot(A3, np.linalg.inv(U1))\n",
    "        U2 = np.dot(np.linalg.inv(L1), A2)\n",
    "        L3,U3 = LU_Block(A4 - np.dot(L2, U2),1)\n",
    "\n",
    "        L = np.zeros(A.shape)\n",
    "        U = np.zeros(A.shape)\n",
    "\n",
    "        L[:b,:b] = L1\n",
    "        L[b:,:b] = L2\n",
    "        L[b:,b:] = L3\n",
    "\n",
    "        U[:b,:b] = U1\n",
    "        U[:b,b:] = U2\n",
    "        U[b:,b:] = U3\n",
    "\n",
    "        return L,U   \n",
    "    \n",
    "    \n",
    "A = np.array([[1,4,7],[2,5,8],[3,6,11]])\n",
    "print(LU_Block(A,2))"
   ]
  },
  {
   "cell_type": "markdown",
   "id": "dc5664b0",
   "metadata": {},
   "source": [
    "### Transformations LU inPlace"
   ]
  },
  {
   "cell_type": "code",
   "execution_count": 113,
   "id": "81de1648",
   "metadata": {},
   "outputs": [
    {
     "data": {
      "text/plain": [
       "array([[ 0.00000000e+00,  0.00000000e+00,  0.00000000e+00, ...,\n",
       "         1.05193632e-14,  4.90579799e-15, -7.54951657e-15],\n",
       "       [ 0.00000000e+00,  0.00000000e+00,  0.00000000e+00, ...,\n",
       "        -1.66533454e-15, -1.62370117e-15, -7.77156117e-16],\n",
       "       [ 0.00000000e+00,  0.00000000e+00,  0.00000000e+00, ...,\n",
       "        -3.55271368e-15, -9.92261828e-16, -2.89351876e-15],\n",
       "       ...,\n",
       "       [-6.93889390e-18,  3.46944695e-18, -4.44089210e-16, ...,\n",
       "         4.89450731e-01,  3.72993067e+00,  3.65973297e-01],\n",
       "       [ 0.00000000e+00,  1.11022302e-16, -3.33066907e-16, ...,\n",
       "         1.39886404e-01,  1.92208355e-01,  1.06300564e-01],\n",
       "       [-2.22044605e-16,  0.00000000e+00,  0.00000000e+00, ...,\n",
       "        -3.58250209e+00, -1.15290154e+00,  1.03371852e+00]])"
      ]
     },
     "execution_count": 113,
     "metadata": {},
     "output_type": "execute_result"
    }
   ],
   "source": [
    "import numpy as np\n",
    "\n",
    "A = np.array([[1,4,7],[2,5,8],[3,6,11]])\n",
    "\n",
    "def LU_inPlaceScalars(A):\n",
    "    \n",
    "    \"\"\"Transformation LU par blocs d'une matrice A (inPlace)\"\"\"\n",
    "    \n",
    "    n = A.shape[0]\n",
    "    L = np.identity(n)\n",
    "    U = A.copy()\n",
    "    for k in range(n-1):\n",
    "        if U[k,k] != 0:\n",
    "            for i in range(k+1,n):\n",
    "                L[i,k] = U[i,k] / U[k,k]\n",
    "                U[i,k:n] = U[i,k:n] - np.dot(np.array([L[i,k]]).T,np.array([U[k,k:n]]))\n",
    "    B = L-np.eye(n) + U\n",
    "    return B\n",
    "\n",
    "def LU_inPlaceBlocks(A,b):\n",
    "    A = A.astype('float64')\n",
    "    n = A.shape[0]\n",
    "    N = int(n/b)\n",
    "    B = np.zeros((A.shape[0],A.shape[1]))\n",
    "    for k in range(1,N+1):\n",
    "        A1 = LU_inPlaceScalars(A[(k-1)*b:k*b,(k-1)*b:k*b])\n",
    "        L1,U1 = np.identity(A1.shape[0]), np.zeros((A1.shape[0],A1.shape[1]))\n",
    "        def get_L(A):\n",
    "            L = np.identity(A.shape[0])\n",
    "            for i in range(A.shape[0]):\n",
    "                for j in range(A.shape[0]):\n",
    "                    if i>j:\n",
    "                        L[i,j] = A[i,j]\n",
    "            return L\n",
    "        \n",
    "        def get_U(A):\n",
    "            U = np.zeros((A.shape[0],A.shape[0]))\n",
    "            for i in range(A.shape[0]):\n",
    "                for j in range(A.shape[0]):\n",
    "                    if i<=j:\n",
    "                        U[i,j] = A[i,j]\n",
    "            return U\n",
    "        L1,U1 = np.array(get_L(A1)),np.array(get_U(A1))\n",
    "        A[(k-1)*b:k*b,(k-1)*b:k*b] = A1\n",
    "        A[k*b:,(k-1)*b:k*b] = np.dot(A[k*b:,(k-1)*b:k*b],np.linalg.inv(U1))\n",
    "        A[(k-1)*b:k*b,k*b:] = np.dot(np.linalg.inv(L1),A[(k-1)*b:k*b,k*b:])\n",
    "        A[k*b:, k*b:] = A[k*b:, k*b:] - np.dot(A[k*b:,(k-1)*b:k*b], A[(k-1)*b:k*b,k*b:])\n",
    "    return A\n",
    "\n",
    "B = np.array([[1,4,7],[2,5,8],[3,6,11]])\n",
    "C = np.array([[2,3,1,5],[6,13,5,19],[2,19,10,23],[4,10,11,31]])\n",
    "C = np.random.rand(50,50)\n",
    "D = LU_inPlaceBlocks(C,17)\n",
    "E = LU_inPlaceScalars(C)\n",
    "D-E\n",
    "\n",
    "#[ 2  3  1  5]\n",
    "#[ 6 13  5 19]\n",
    "#[ 2 19 10 23]\n",
    "#[ 4 10 11 31]\n"
   ]
  },
  {
   "cell_type": "markdown",
   "id": "2cd3b3c6",
   "metadata": {},
   "source": [
    "# Tests"
   ]
  },
  {
   "cell_type": "markdown",
   "id": "f717d065",
   "metadata": {},
   "source": [
    "### Tests d'efficacité de la décomposition LU"
   ]
  },
  {
   "cell_type": "code",
   "execution_count": 114,
   "id": "26e2a149",
   "metadata": {},
   "outputs": [],
   "source": [
    "def test_LU_parElements(A,b):\n",
    "    L,U = LU_parElements(A,b)\n",
    "    return (np.linalg.norm(A - np.dot(L,U)))/(np.linalg.norm(A))\n",
    "\n",
    "def test_LU_parVecteurs(A,b):\n",
    "    L,U = LU_parVecteurs(A,b)\n",
    "    return (np.linalg.norm(A - np.dot(L,U)))/(np.linalg.norm(A))\n",
    "\n",
    "def test_LU_parBlocs(A,b):\n",
    "    L,U = LU_Block(A,b)\n",
    "    return (np.linalg.norm(A - np.dot(L,U)))/(np.linalg.norm(A))"
   ]
  },
  {
   "cell_type": "markdown",
   "id": "9776483b",
   "metadata": {},
   "source": [
    "### Résultats pour la décomposition par blocs"
   ]
  },
  {
   "cell_type": "code",
   "execution_count": 19,
   "id": "e16e6e93",
   "metadata": {},
   "outputs": [
    {
     "data": {
      "image/png": "[encoded data removed]",
      "text/plain": [
       "<Figure size 432x288 with 1 Axes>"
      ]
     },
     "metadata": {
      "needs_background": "light"
     },
     "output_type": "display_data"
    }
   ],
   "source": [
    "import matplotlib.pyplot as plt\n",
    "\n",
    "n1 = 200\n",
    "n2 = 300\n",
    "n3 = 400\n",
    "n4 = 500\n",
    "\n",
    "list_b = range(5,100,5)\n",
    "\n",
    "M1 = np.random.rand(n1,n1)\n",
    "list_results1 = []\n",
    "\n",
    "M2 = np.random.rand(n2,n2)\n",
    "list_results2 = []\n",
    "\n",
    "M3 = np.random.rand(n3,n3)\n",
    "list_results3 = []\n",
    "\n",
    "M4 = np.random.rand(n4,n4)\n",
    "list_results4 = []\n",
    "\n",
    "for b in list_b:\n",
    "    list_results1.append(test_LU_par_blocs(M1,b))\n",
    "    list_results2.append(test_LU_par_blocs(M2,b))\n",
    "    list_results3.append(test_LU_par_blocs(M3,b))\n",
    "    list_results4.append(test_LU_par_blocs(M4,b))\n",
    "    \n",
    "ax1, = plt.plot(list_b, list_results1, linestyle='-')\n",
    "ax2, = plt.plot(list_b, list_results2, linestyle='--')\n",
    "ax3, = plt.plot(list_b, list_results3, linestyle='-.')\n",
    "ax4, = plt.plot(list_b, list_results4, linestyle=':')\n",
    "\n",
    "plt.legend([ax1, ax2, ax3, ax4], ['taille = 200', 'taille = 300', 'taille = 400', 'taille = 500'])\n",
    "plt.title('Performances de la décomposition LU par blocs')\n",
    "\n",
    "plt.show()\n"
   ]
  },
  {
   "cell_type": "markdown",
   "id": "a45b4ad5",
   "metadata": {},
   "source": [
    "## Comparaison des temps d'exécution des 3 méthodes de décomposition"
   ]
  },
  {
   "cell_type": "code",
   "execution_count": 120,
   "id": "1668aa2b",
   "metadata": {},
   "outputs": [
    {
     "name": "stdout",
     "output_type": "stream",
     "text": [
      "Temps d'éxecution 'par Elements' =  1.3515303134918213\n",
      "Temps d'éxecution 'par Elements et inPlace' =  1.5939393043518066\n",
      "Temps d'éxecution 'par Vecteurs' =  0.4901607036590576\n",
      "Temps d'éxecution 'par Blocs' =  0.5322494506835938\n",
      "Temps d'éxecution 'par Blocs et inPlace' =  0.16923880577087402\n"
     ]
    }
   ],
   "source": [
    "import time\n",
    "\n",
    "A = np.random.rand(500,500)\n",
    "\n",
    "t0 = time.time()\n",
    "L,U = LU_parElements(A)\n",
    "t1 = time.time() - t0\n",
    "print(\"Temps d'éxecution 'par Elements' = \", t1)\n",
    "\n",
    "t0 = time.time()\n",
    "B = LU_inPlaceScalars(A)\n",
    "t1 = time.time() - t0\n",
    "print(\"Temps d'éxecution 'par Elements et inPlace' = \", t1)\n",
    "\n",
    "t0 = time.time()\n",
    "L,U = LU_parVecteurs(A)\n",
    "t1 = time.time() - t0\n",
    "print(\"Temps d'éxecution 'par Vecteurs' = \", t1)\n",
    "\n",
    "t0 = time.time()\n",
    "L,U = LU_Block(A,50)\n",
    "t1 = time.time() - t0\n",
    "print(\"Temps d'éxecution 'par Blocs' = \", t1)\n",
    "\n",
    "t0 = time.time()\n",
    "B = LU_inPlaceBlocks(A,50)\n",
    "t1 = time.time() - t0\n",
    "print(\"Temps d'éxecution 'par Blocs et inPlace' = \", t1)"
   ]
  },
  {
   "cell_type": "code",
   "execution_count": 7,
   "id": "74ba8a87",
   "metadata": {},
   "outputs": [],
   "source": [
    "def get_L(A):\n",
    "    L = np.identity(A.shape[0])\n",
    "    for i in range(A.shape[0]):\n",
    "        for j in range(A.shape[0]):\n",
    "            if i>j:\n",
    "                L[i,j] = A[i,j]\n",
    "    return L\n",
    "        \n",
    "def get_U(A):\n",
    "    U = np.zeros((A.shape[0],A.shape[0]))\n",
    "    for i in range(A.shape[0]):\n",
    "        for j in range(A.shape[0]):\n",
    "            if i<=j:\n",
    "                U[i,j] = A[i,j]\n",
    "    return U"
   ]
  }
 ],
 "metadata": {
  "kernelspec": {
   "display_name": "Python 3 (ipykernel)",
   "language": "python",
   "name": "python3"
  },
  "language_info": {
   "codemirror_mode": {
    "name": "ipython",
    "version": 3
   },
   "file_extension": ".py",
   "mimetype": "text/x-python",
   "name": "python",
   "nbconvert_exporter": "python",
   "pygments_lexer": "ipython3",
   "version": "3.8.11"
  }
 },
 "nbformat": 4,
 "nbformat_minor": 5
}
